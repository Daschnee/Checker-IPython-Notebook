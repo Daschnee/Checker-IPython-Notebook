# -*- coding: utf-8 -*-
"""
Created on Tue May 24 17:09:47 2022

@author: dasch
"""

class CheckerIntegrater:
    
    def __init__(self, board, window):
        self.board = board
        self.graphicswindow = window
    
    def movePiece(self, indexOfDrawnPiece, color, di, dj):
        self.board.movePiece(indexOfDrawnPiece, color, di, dj)
        self.graphicswindow.moveDrawnPiece(indexOfDrawnPiece, color, di, dj)
    
    def removePiece(self, indexOfDrawnPiece, color):
        self.board.removePiece(indexOfDrawnPiece, color)
        self.graphicswindow.removeDrawnPiece(indexOfDrawnPiece, color)
    
    def kingPiece(self, indexOfDrawnPiece, color):
        self.board.kingPiece(indexOfDrawnPiece, color)
        self.graphicswindow.kingPiece(indexOfDrawnPiece, color)